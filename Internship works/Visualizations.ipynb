{
 "cells": [
  {
   "cell_type": "code",
   "execution_count": 1,
   "metadata": {},
   "outputs": [],
   "source": [
    "import pandas as pd\n",
    "import numpy as np\n",
    "import matplotlib.pyplot as plt\n",
    "import seaborn as sns"
   ]
  },
  {
   "cell_type": "code",
   "execution_count": 4,
   "metadata": {},
   "outputs": [],
   "source": [
    "df_details = pd.read_csv(\"detail.csv\")"
   ]
  },
  {
   "cell_type": "code",
   "execution_count": 5,
   "metadata": {},
   "outputs": [
    {
     "data": {
      "text/html": [
       "<div>\n",
       "<style scoped>\n",
       "    .dataframe tbody tr th:only-of-type {\n",
       "        vertical-align: middle;\n",
       "    }\n",
       "\n",
       "    .dataframe tbody tr th {\n",
       "        vertical-align: top;\n",
       "    }\n",
       "\n",
       "    .dataframe thead th {\n",
       "        text-align: right;\n",
       "    }\n",
       "</style>\n",
       "<table border=\"1\" class=\"dataframe\">\n",
       "  <thead>\n",
       "    <tr style=\"text-align: right;\">\n",
       "      <th></th>\n",
       "      <th>Record Index</th>\n",
       "      <th>Status</th>\n",
       "      <th>JumpTo</th>\n",
       "      <th>Cycle</th>\n",
       "      <th>Step</th>\n",
       "      <th>Cur(mA)</th>\n",
       "      <th>Voltage(V)</th>\n",
       "      <th>CapaCity(mAh)</th>\n",
       "      <th>Energy(mWh)</th>\n",
       "      <th>Relative Time(h:min:s.ms)</th>\n",
       "      <th>Absolute Time</th>\n",
       "    </tr>\n",
       "  </thead>\n",
       "  <tbody>\n",
       "    <tr>\n",
       "      <th>0</th>\n",
       "      <td>1</td>\n",
       "      <td>Rest</td>\n",
       "      <td>1</td>\n",
       "      <td>1</td>\n",
       "      <td>1</td>\n",
       "      <td>0.0</td>\n",
       "      <td>3.59</td>\n",
       "      <td>0.0</td>\n",
       "      <td>0.0</td>\n",
       "      <td>0:00:00.000</td>\n",
       "      <td>10-10-2020 20:03:39</td>\n",
       "    </tr>\n",
       "    <tr>\n",
       "      <th>1</th>\n",
       "      <td>2</td>\n",
       "      <td>Rest</td>\n",
       "      <td>1</td>\n",
       "      <td>1</td>\n",
       "      <td>1</td>\n",
       "      <td>0.0</td>\n",
       "      <td>3.59</td>\n",
       "      <td>0.0</td>\n",
       "      <td>0.0</td>\n",
       "      <td>0:00:01.000</td>\n",
       "      <td>10-10-2020 20:03:40</td>\n",
       "    </tr>\n",
       "    <tr>\n",
       "      <th>2</th>\n",
       "      <td>3</td>\n",
       "      <td>Rest</td>\n",
       "      <td>1</td>\n",
       "      <td>1</td>\n",
       "      <td>1</td>\n",
       "      <td>0.0</td>\n",
       "      <td>3.59</td>\n",
       "      <td>0.0</td>\n",
       "      <td>0.0</td>\n",
       "      <td>0:00:02.000</td>\n",
       "      <td>10-10-2020 20:03:41</td>\n",
       "    </tr>\n",
       "    <tr>\n",
       "      <th>3</th>\n",
       "      <td>4</td>\n",
       "      <td>Rest</td>\n",
       "      <td>1</td>\n",
       "      <td>1</td>\n",
       "      <td>1</td>\n",
       "      <td>0.0</td>\n",
       "      <td>3.59</td>\n",
       "      <td>0.0</td>\n",
       "      <td>0.0</td>\n",
       "      <td>0:00:03.000</td>\n",
       "      <td>10-10-2020 20:03:42</td>\n",
       "    </tr>\n",
       "    <tr>\n",
       "      <th>4</th>\n",
       "      <td>5</td>\n",
       "      <td>Rest</td>\n",
       "      <td>1</td>\n",
       "      <td>1</td>\n",
       "      <td>1</td>\n",
       "      <td>0.0</td>\n",
       "      <td>3.59</td>\n",
       "      <td>0.0</td>\n",
       "      <td>0.0</td>\n",
       "      <td>0:00:04.000</td>\n",
       "      <td>10-10-2020 20:03:43</td>\n",
       "    </tr>\n",
       "  </tbody>\n",
       "</table>\n",
       "</div>"
      ],
      "text/plain": [
       "   Record Index Status  JumpTo  Cycle  Step  Cur(mA)  Voltage(V)  \\\n",
       "0             1   Rest       1      1     1      0.0        3.59   \n",
       "1             2   Rest       1      1     1      0.0        3.59   \n",
       "2             3   Rest       1      1     1      0.0        3.59   \n",
       "3             4   Rest       1      1     1      0.0        3.59   \n",
       "4             5   Rest       1      1     1      0.0        3.59   \n",
       "\n",
       "   CapaCity(mAh)  Energy(mWh) Relative Time(h:min:s.ms)        Absolute Time  \n",
       "0            0.0          0.0               0:00:00.000  10-10-2020 20:03:39  \n",
       "1            0.0          0.0               0:00:01.000  10-10-2020 20:03:40  \n",
       "2            0.0          0.0               0:00:02.000  10-10-2020 20:03:41  \n",
       "3            0.0          0.0               0:00:03.000  10-10-2020 20:03:42  \n",
       "4            0.0          0.0               0:00:04.000  10-10-2020 20:03:43  "
      ]
     },
     "execution_count": 5,
     "metadata": {},
     "output_type": "execute_result"
    }
   ],
   "source": [
    "df_details.head(5)"
   ]
  },
  {
   "cell_type": "code",
   "execution_count": 7,
   "metadata": {},
   "outputs": [],
   "source": [
    "df_details.rename(columns={'Record Index': 'Record_Index', 'Status': 'Status','JumpTo': 'JumpTo','Cycle': 'Cycle',\n",
    "                   'Step': 'Step','Cur(mA)': 'Current','Voltage(V)': 'Voltage','CapaCity(mAh)': 'CapaCity',\n",
    "                   'Energy(mWh)': 'Energy','Relative Time(h:min:s.ms)': 'Relative_Time','Absolute Time': 'Absolute_Time'}, inplace=True)"
   ]
  },
  {
   "cell_type": "code",
   "execution_count": 8,
   "metadata": {},
   "outputs": [
    {
     "data": {
      "text/html": [
       "<div>\n",
       "<style scoped>\n",
       "    .dataframe tbody tr th:only-of-type {\n",
       "        vertical-align: middle;\n",
       "    }\n",
       "\n",
       "    .dataframe tbody tr th {\n",
       "        vertical-align: top;\n",
       "    }\n",
       "\n",
       "    .dataframe thead th {\n",
       "        text-align: right;\n",
       "    }\n",
       "</style>\n",
       "<table border=\"1\" class=\"dataframe\">\n",
       "  <thead>\n",
       "    <tr style=\"text-align: right;\">\n",
       "      <th></th>\n",
       "      <th>Record_Index</th>\n",
       "      <th>Status</th>\n",
       "      <th>JumpTo</th>\n",
       "      <th>Cycle</th>\n",
       "      <th>Step</th>\n",
       "      <th>Current</th>\n",
       "      <th>Voltage</th>\n",
       "      <th>CapaCity</th>\n",
       "      <th>Energy</th>\n",
       "      <th>Relative_Time</th>\n",
       "      <th>Absolute_Time</th>\n",
       "    </tr>\n",
       "  </thead>\n",
       "  <tbody>\n",
       "    <tr>\n",
       "      <th>0</th>\n",
       "      <td>1</td>\n",
       "      <td>Rest</td>\n",
       "      <td>1</td>\n",
       "      <td>1</td>\n",
       "      <td>1</td>\n",
       "      <td>0.0</td>\n",
       "      <td>3.59</td>\n",
       "      <td>0.0</td>\n",
       "      <td>0.0</td>\n",
       "      <td>0:00:00.000</td>\n",
       "      <td>10-10-2020 20:03:39</td>\n",
       "    </tr>\n",
       "    <tr>\n",
       "      <th>1</th>\n",
       "      <td>2</td>\n",
       "      <td>Rest</td>\n",
       "      <td>1</td>\n",
       "      <td>1</td>\n",
       "      <td>1</td>\n",
       "      <td>0.0</td>\n",
       "      <td>3.59</td>\n",
       "      <td>0.0</td>\n",
       "      <td>0.0</td>\n",
       "      <td>0:00:01.000</td>\n",
       "      <td>10-10-2020 20:03:40</td>\n",
       "    </tr>\n",
       "    <tr>\n",
       "      <th>2</th>\n",
       "      <td>3</td>\n",
       "      <td>Rest</td>\n",
       "      <td>1</td>\n",
       "      <td>1</td>\n",
       "      <td>1</td>\n",
       "      <td>0.0</td>\n",
       "      <td>3.59</td>\n",
       "      <td>0.0</td>\n",
       "      <td>0.0</td>\n",
       "      <td>0:00:02.000</td>\n",
       "      <td>10-10-2020 20:03:41</td>\n",
       "    </tr>\n",
       "    <tr>\n",
       "      <th>3</th>\n",
       "      <td>4</td>\n",
       "      <td>Rest</td>\n",
       "      <td>1</td>\n",
       "      <td>1</td>\n",
       "      <td>1</td>\n",
       "      <td>0.0</td>\n",
       "      <td>3.59</td>\n",
       "      <td>0.0</td>\n",
       "      <td>0.0</td>\n",
       "      <td>0:00:03.000</td>\n",
       "      <td>10-10-2020 20:03:42</td>\n",
       "    </tr>\n",
       "    <tr>\n",
       "      <th>4</th>\n",
       "      <td>5</td>\n",
       "      <td>Rest</td>\n",
       "      <td>1</td>\n",
       "      <td>1</td>\n",
       "      <td>1</td>\n",
       "      <td>0.0</td>\n",
       "      <td>3.59</td>\n",
       "      <td>0.0</td>\n",
       "      <td>0.0</td>\n",
       "      <td>0:00:04.000</td>\n",
       "      <td>10-10-2020 20:03:43</td>\n",
       "    </tr>\n",
       "  </tbody>\n",
       "</table>\n",
       "</div>"
      ],
      "text/plain": [
       "   Record_Index Status  JumpTo  Cycle  Step  Current  Voltage  CapaCity  \\\n",
       "0             1   Rest       1      1     1      0.0     3.59       0.0   \n",
       "1             2   Rest       1      1     1      0.0     3.59       0.0   \n",
       "2             3   Rest       1      1     1      0.0     3.59       0.0   \n",
       "3             4   Rest       1      1     1      0.0     3.59       0.0   \n",
       "4             5   Rest       1      1     1      0.0     3.59       0.0   \n",
       "\n",
       "   Energy Relative_Time        Absolute_Time  \n",
       "0     0.0   0:00:00.000  10-10-2020 20:03:39  \n",
       "1     0.0   0:00:01.000  10-10-2020 20:03:40  \n",
       "2     0.0   0:00:02.000  10-10-2020 20:03:41  \n",
       "3     0.0   0:00:03.000  10-10-2020 20:03:42  \n",
       "4     0.0   0:00:04.000  10-10-2020 20:03:43  "
      ]
     },
     "execution_count": 8,
     "metadata": {},
     "output_type": "execute_result"
    }
   ],
   "source": [
    "df_details.head(5)"
   ]
  },
  {
   "cell_type": "code",
   "execution_count": 9,
   "metadata": {},
   "outputs": [],
   "source": [
    "from pandas_profiling import ProfileReport"
   ]
  },
  {
   "cell_type": "code",
   "execution_count": 10,
   "metadata": {},
   "outputs": [
    {
     "data": {
      "application/vnd.jupyter.widget-view+json": {
       "model_id": "e7efabe6f8ca4c32be88d49d8e36d453",
       "version_major": 2,
       "version_minor": 0
      },
      "text/plain": [
       "HBox(children=(FloatProgress(value=0.0, description='Summarize dataset', max=25.0, style=ProgressStyle(descrip…"
      ]
     },
     "metadata": {},
     "output_type": "display_data"
    },
    {
     "name": "stdout",
     "output_type": "stream",
     "text": [
      "\n"
     ]
    },
    {
     "data": {
      "application/vnd.jupyter.widget-view+json": {
       "model_id": "c55e73d4e24b4a2d90b37ed5f8622b95",
       "version_major": 2,
       "version_minor": 0
      },
      "text/plain": [
       "HBox(children=(FloatProgress(value=0.0, description='Generate report structure', max=1.0, style=ProgressStyle(…"
      ]
     },
     "metadata": {},
     "output_type": "display_data"
    },
    {
     "name": "stdout",
     "output_type": "stream",
     "text": [
      "\n"
     ]
    },
    {
     "data": {
      "application/vnd.jupyter.widget-view+json": {
       "model_id": "",
       "version_major": 2,
       "version_minor": 0
      },
      "text/plain": [
       "HBox(children=(FloatProgress(value=0.0, description='Render widgets', max=1.0, style=ProgressStyle(description…"
      ]
     },
     "metadata": {},
     "output_type": "display_data"
    },
    {
     "data": {
      "application/vnd.jupyter.widget-view+json": {
       "model_id": "5552da16b4c14dfe8f117933f57d34af",
       "version_major": 2,
       "version_minor": 0
      },
      "text/plain": [
       "VBox(children=(Tab(children=(Tab(children=(GridBox(children=(VBox(children=(GridspecLayout(children=(HTML(valu…"
      ]
     },
     "metadata": {},
     "output_type": "display_data"
    }
   ],
   "source": [
    "#Lets Try with AutoEDA by pandas profile \n",
    "profile = ProfileReport(df_details, title='details.csv Report', explorative=True)\n",
    "profile.to_widgets()"
   ]
  },
  {
   "cell_type": "code",
   "execution_count": 11,
   "metadata": {},
   "outputs": [
    {
     "data": {
      "application/vnd.jupyter.widget-view+json": {
       "model_id": "a8da2df09e83436c80c2491a51eadb98",
       "version_major": 2,
       "version_minor": 0
      },
      "text/plain": [
       "HBox(children=(FloatProgress(value=0.0, description='Render HTML', max=1.0, style=ProgressStyle(description_wi…"
      ]
     },
     "metadata": {},
     "output_type": "display_data"
    },
    {
     "name": "stdout",
     "output_type": "stream",
     "text": [
      "\n"
     ]
    },
    {
     "data": {
      "application/vnd.jupyter.widget-view+json": {
       "model_id": "a02b4f8ebf774e84b05a12b416c68b9d",
       "version_major": 2,
       "version_minor": 0
      },
      "text/plain": [
       "HBox(children=(FloatProgress(value=0.0, description='Export report to file', max=1.0, style=ProgressStyle(desc…"
      ]
     },
     "metadata": {},
     "output_type": "display_data"
    },
    {
     "name": "stdout",
     "output_type": "stream",
     "text": [
      "\n"
     ]
    }
   ],
   "source": [
    "#Save output result in HTML\n",
    "profile.to_file(\"details_dataset_Report.html\")"
   ]
  },
  {
   "cell_type": "code",
   "execution_count": 21,
   "metadata": {},
   "outputs": [
    {
     "name": "stderr",
     "output_type": "stream",
     "text": [
      ":FEATURES DONE:                    |                     | [  0%]   00:21  -> (00:00 left)\n",
      ":PAIRWISE DONE:                    |█████████████████████| [100%]   00:06  -> (00:00 left)\n"
     ]
    },
    {
     "name": "stdout",
     "output_type": "stream",
     "text": [
      "Creating Associations graph... DONE!\n"
     ]
    }
   ],
   "source": [
    "import sweetviz as sv\n",
    "#analyzing the dataset\n",
    "advert_report = sv.analyze(df_details)\n",
    "#display the report\n",
    "advert_report.show_html('details.html')"
   ]
  },
  {
   "cell_type": "markdown",
   "metadata": {},
   "source": [
    "<b>Restart Kernal and clear the outputs to run the below code </b>"
   ]
  },
  {
   "cell_type": "code",
   "execution_count": 23,
   "metadata": {},
   "outputs": [],
   "source": [
    "import pandas as pd\n",
    "import numpy as np\n",
    "import matplotlib.pyplot as plt\n",
    "import seaborn as sns"
   ]
  },
  {
   "cell_type": "code",
   "execution_count": 24,
   "metadata": {},
   "outputs": [],
   "source": [
    "df_vol = pd.read_csv(\"detailVol.csv\")"
   ]
  },
  {
   "cell_type": "code",
   "execution_count": 25,
   "metadata": {},
   "outputs": [
    {
     "data": {
      "text/html": [
       "<div>\n",
       "<style scoped>\n",
       "    .dataframe tbody tr th:only-of-type {\n",
       "        vertical-align: middle;\n",
       "    }\n",
       "\n",
       "    .dataframe tbody tr th {\n",
       "        vertical-align: top;\n",
       "    }\n",
       "\n",
       "    .dataframe thead th {\n",
       "        text-align: right;\n",
       "    }\n",
       "</style>\n",
       "<table border=\"1\" class=\"dataframe\">\n",
       "  <thead>\n",
       "    <tr style=\"text-align: right;\">\n",
       "      <th></th>\n",
       "      <th>Record ID</th>\n",
       "      <th>Step Name</th>\n",
       "      <th>Relative Time(h:min:s.ms)</th>\n",
       "      <th>Realtime</th>\n",
       "      <th>Auxiliary channel TU1 U(V)</th>\n",
       "      <th>Gap of Voltage</th>\n",
       "    </tr>\n",
       "  </thead>\n",
       "  <tbody>\n",
       "    <tr>\n",
       "      <th>0</th>\n",
       "      <td>1</td>\n",
       "      <td>Rest</td>\n",
       "      <td>0:00:00.000</td>\n",
       "      <td>10-10-2020 20:03:39</td>\n",
       "      <td>-0.0013</td>\n",
       "      <td>0.0</td>\n",
       "    </tr>\n",
       "    <tr>\n",
       "      <th>1</th>\n",
       "      <td>2</td>\n",
       "      <td>Rest</td>\n",
       "      <td>0:00:01.000</td>\n",
       "      <td>10-10-2020 20:03:40</td>\n",
       "      <td>-0.0013</td>\n",
       "      <td>0.0</td>\n",
       "    </tr>\n",
       "    <tr>\n",
       "      <th>2</th>\n",
       "      <td>3</td>\n",
       "      <td>Rest</td>\n",
       "      <td>0:00:02.000</td>\n",
       "      <td>10-10-2020 20:03:41</td>\n",
       "      <td>-0.0013</td>\n",
       "      <td>0.0</td>\n",
       "    </tr>\n",
       "    <tr>\n",
       "      <th>3</th>\n",
       "      <td>4</td>\n",
       "      <td>Rest</td>\n",
       "      <td>0:00:03.000</td>\n",
       "      <td>10-10-2020 20:03:42</td>\n",
       "      <td>-0.0013</td>\n",
       "      <td>0.0</td>\n",
       "    </tr>\n",
       "    <tr>\n",
       "      <th>4</th>\n",
       "      <td>5</td>\n",
       "      <td>Rest</td>\n",
       "      <td>0:00:04.000</td>\n",
       "      <td>10-10-2020 20:03:43</td>\n",
       "      <td>-0.0012</td>\n",
       "      <td>0.0</td>\n",
       "    </tr>\n",
       "  </tbody>\n",
       "</table>\n",
       "</div>"
      ],
      "text/plain": [
       "   Record ID Step Name Relative Time(h:min:s.ms)             Realtime  \\\n",
       "0          1      Rest               0:00:00.000  10-10-2020 20:03:39   \n",
       "1          2      Rest               0:00:01.000  10-10-2020 20:03:40   \n",
       "2          3      Rest               0:00:02.000  10-10-2020 20:03:41   \n",
       "3          4      Rest               0:00:03.000  10-10-2020 20:03:42   \n",
       "4          5      Rest               0:00:04.000  10-10-2020 20:03:43   \n",
       "\n",
       "   Auxiliary channel TU1 U(V)  Gap of Voltage  \n",
       "0                     -0.0013             0.0  \n",
       "1                     -0.0013             0.0  \n",
       "2                     -0.0013             0.0  \n",
       "3                     -0.0013             0.0  \n",
       "4                     -0.0012             0.0  "
      ]
     },
     "execution_count": 25,
     "metadata": {},
     "output_type": "execute_result"
    }
   ],
   "source": [
    "df_vol.head(5)"
   ]
  },
  {
   "cell_type": "code",
   "execution_count": 26,
   "metadata": {},
   "outputs": [],
   "source": [
    "df_vol.rename(columns={'Record ID': 'Record_ID', 'Step Name': 'Step_Name','Relative Time(h:min:s.ms)': 'Relative_Time','Realtime': 'Realtime',\n",
    "                   'Auxiliary channel TU1 U(V)': 'Auxiliary_channel','Gap of Voltage': 'Gap_of_Voltage'}, inplace=True)"
   ]
  },
  {
   "cell_type": "code",
   "execution_count": 27,
   "metadata": {},
   "outputs": [
    {
     "data": {
      "text/html": [
       "<div>\n",
       "<style scoped>\n",
       "    .dataframe tbody tr th:only-of-type {\n",
       "        vertical-align: middle;\n",
       "    }\n",
       "\n",
       "    .dataframe tbody tr th {\n",
       "        vertical-align: top;\n",
       "    }\n",
       "\n",
       "    .dataframe thead th {\n",
       "        text-align: right;\n",
       "    }\n",
       "</style>\n",
       "<table border=\"1\" class=\"dataframe\">\n",
       "  <thead>\n",
       "    <tr style=\"text-align: right;\">\n",
       "      <th></th>\n",
       "      <th>Record_ID</th>\n",
       "      <th>Step_Name</th>\n",
       "      <th>Relative_Time</th>\n",
       "      <th>Realtime</th>\n",
       "      <th>Auxiliary_channel</th>\n",
       "      <th>Gap_of_Voltage</th>\n",
       "    </tr>\n",
       "  </thead>\n",
       "  <tbody>\n",
       "    <tr>\n",
       "      <th>0</th>\n",
       "      <td>1</td>\n",
       "      <td>Rest</td>\n",
       "      <td>0:00:00.000</td>\n",
       "      <td>10-10-2020 20:03:39</td>\n",
       "      <td>-0.0013</td>\n",
       "      <td>0.0</td>\n",
       "    </tr>\n",
       "    <tr>\n",
       "      <th>1</th>\n",
       "      <td>2</td>\n",
       "      <td>Rest</td>\n",
       "      <td>0:00:01.000</td>\n",
       "      <td>10-10-2020 20:03:40</td>\n",
       "      <td>-0.0013</td>\n",
       "      <td>0.0</td>\n",
       "    </tr>\n",
       "    <tr>\n",
       "      <th>2</th>\n",
       "      <td>3</td>\n",
       "      <td>Rest</td>\n",
       "      <td>0:00:02.000</td>\n",
       "      <td>10-10-2020 20:03:41</td>\n",
       "      <td>-0.0013</td>\n",
       "      <td>0.0</td>\n",
       "    </tr>\n",
       "  </tbody>\n",
       "</table>\n",
       "</div>"
      ],
      "text/plain": [
       "   Record_ID Step_Name Relative_Time             Realtime  Auxiliary_channel  \\\n",
       "0          1      Rest   0:00:00.000  10-10-2020 20:03:39            -0.0013   \n",
       "1          2      Rest   0:00:01.000  10-10-2020 20:03:40            -0.0013   \n",
       "2          3      Rest   0:00:02.000  10-10-2020 20:03:41            -0.0013   \n",
       "\n",
       "   Gap_of_Voltage  \n",
       "0             0.0  \n",
       "1             0.0  \n",
       "2             0.0  "
      ]
     },
     "execution_count": 27,
     "metadata": {},
     "output_type": "execute_result"
    }
   ],
   "source": [
    "df_vol.head(3)"
   ]
  },
  {
   "cell_type": "code",
   "execution_count": 28,
   "metadata": {},
   "outputs": [],
   "source": [
    "from pandas_profiling import ProfileReport"
   ]
  },
  {
   "cell_type": "code",
   "execution_count": 29,
   "metadata": {},
   "outputs": [
    {
     "data": {
      "application/vnd.jupyter.widget-view+json": {
       "model_id": "0cade90bd42f4a3798c7f7a64905bf60",
       "version_major": 2,
       "version_minor": 0
      },
      "text/plain": [
       "HBox(children=(FloatProgress(value=0.0, description='Summarize dataset', max=20.0, style=ProgressStyle(descrip…"
      ]
     },
     "metadata": {},
     "output_type": "display_data"
    },
    {
     "name": "stdout",
     "output_type": "stream",
     "text": [
      "\n"
     ]
    },
    {
     "data": {
      "application/vnd.jupyter.widget-view+json": {
       "model_id": "d12b1c6be5504fec96e37937cda456bf",
       "version_major": 2,
       "version_minor": 0
      },
      "text/plain": [
       "HBox(children=(FloatProgress(value=0.0, description='Generate report structure', max=1.0, style=ProgressStyle(…"
      ]
     },
     "metadata": {},
     "output_type": "display_data"
    },
    {
     "name": "stdout",
     "output_type": "stream",
     "text": [
      "\n"
     ]
    },
    {
     "data": {
      "application/vnd.jupyter.widget-view+json": {
       "model_id": "",
       "version_major": 2,
       "version_minor": 0
      },
      "text/plain": [
       "HBox(children=(FloatProgress(value=0.0, description='Render widgets', max=1.0, style=ProgressStyle(description…"
      ]
     },
     "metadata": {},
     "output_type": "display_data"
    },
    {
     "data": {
      "application/vnd.jupyter.widget-view+json": {
       "model_id": "bd932d784cb346c38d26dafea90d91b1",
       "version_major": 2,
       "version_minor": 0
      },
      "text/plain": [
       "VBox(children=(Tab(children=(Tab(children=(GridBox(children=(VBox(children=(GridspecLayout(children=(HTML(valu…"
      ]
     },
     "metadata": {},
     "output_type": "display_data"
    }
   ],
   "source": [
    "#Lets Try with AutoEDA by pandas profile \n",
    "profile = ProfileReport(df_vol, title='detailsVol.csv Report', explorative=True)\n",
    "profile.to_widgets()"
   ]
  },
  {
   "cell_type": "code",
   "execution_count": 30,
   "metadata": {},
   "outputs": [
    {
     "data": {
      "application/vnd.jupyter.widget-view+json": {
       "model_id": "f235980e50364ab48d55209506c975ec",
       "version_major": 2,
       "version_minor": 0
      },
      "text/plain": [
       "HBox(children=(FloatProgress(value=0.0, description='Render HTML', max=1.0, style=ProgressStyle(description_wi…"
      ]
     },
     "metadata": {},
     "output_type": "display_data"
    },
    {
     "name": "stdout",
     "output_type": "stream",
     "text": [
      "\n"
     ]
    },
    {
     "data": {
      "application/vnd.jupyter.widget-view+json": {
       "model_id": "c1935c189b7e4d87b973d8c95441165d",
       "version_major": 2,
       "version_minor": 0
      },
      "text/plain": [
       "HBox(children=(FloatProgress(value=0.0, description='Export report to file', max=1.0, style=ProgressStyle(desc…"
      ]
     },
     "metadata": {},
     "output_type": "display_data"
    },
    {
     "name": "stdout",
     "output_type": "stream",
     "text": [
      "\n"
     ]
    }
   ],
   "source": [
    "#Save output result in HTML\n",
    "profile.to_file(\"detailsVol Report.html\")"
   ]
  },
  {
   "cell_type": "code",
   "execution_count": 31,
   "metadata": {},
   "outputs": [
    {
     "name": "stderr",
     "output_type": "stream",
     "text": [
      ":FEATURES DONE:                    |                     | [  0%]   00:11  -> (00:00 left)\n",
      ":PAIRWISE DONE:                    |█████████████████████| [100%]   00:07  -> (00:00 left)\n"
     ]
    },
    {
     "name": "stdout",
     "output_type": "stream",
     "text": [
      "Creating Associations graph... DONE!\n"
     ]
    }
   ],
   "source": [
    "import sweetviz as sv\n",
    "#analyzing the dataset\n",
    "advert_report = sv.analyze(df_vol)\n",
    "#display the report\n",
    "advert_report.show_html('detailsVol.html')"
   ]
  },
  {
   "cell_type": "markdown",
   "metadata": {},
   "source": [
    "<b>Restart Kernal and clear the outputs to run the below code</b>"
   ]
  },
  {
   "cell_type": "code",
   "execution_count": 32,
   "metadata": {},
   "outputs": [],
   "source": [
    "import pandas as pd\n",
    "import numpy as np\n",
    "import matplotlib.pyplot as plt\n",
    "import seaborn as sns"
   ]
  },
  {
   "cell_type": "code",
   "execution_count": 33,
   "metadata": {},
   "outputs": [],
   "source": [
    "df_temp = pd.read_excel(\"detailTemp.xlsx\")"
   ]
  },
  {
   "cell_type": "code",
   "execution_count": 34,
   "metadata": {},
   "outputs": [
    {
     "data": {
      "text/html": [
       "<div>\n",
       "<style scoped>\n",
       "    .dataframe tbody tr th:only-of-type {\n",
       "        vertical-align: middle;\n",
       "    }\n",
       "\n",
       "    .dataframe tbody tr th {\n",
       "        vertical-align: top;\n",
       "    }\n",
       "\n",
       "    .dataframe thead th {\n",
       "        text-align: right;\n",
       "    }\n",
       "</style>\n",
       "<table border=\"1\" class=\"dataframe\">\n",
       "  <thead>\n",
       "    <tr style=\"text-align: right;\">\n",
       "      <th></th>\n",
       "      <th>Record ID</th>\n",
       "      <th>Step Name</th>\n",
       "      <th>Relative Time(h:min:s.ms)</th>\n",
       "      <th>Realtime</th>\n",
       "      <th>Auxiliary channel TU1 T(°C)</th>\n",
       "      <th>Gap of Temperature</th>\n",
       "    </tr>\n",
       "  </thead>\n",
       "  <tbody>\n",
       "    <tr>\n",
       "      <th>0</th>\n",
       "      <td>1</td>\n",
       "      <td>Rest</td>\n",
       "      <td>00:00:00</td>\n",
       "      <td>2020-10-10 20:03:39</td>\n",
       "      <td>27.7</td>\n",
       "      <td>0</td>\n",
       "    </tr>\n",
       "    <tr>\n",
       "      <th>1</th>\n",
       "      <td>2</td>\n",
       "      <td>Rest</td>\n",
       "      <td>00:00:01</td>\n",
       "      <td>2020-10-10 20:03:40</td>\n",
       "      <td>27.7</td>\n",
       "      <td>0</td>\n",
       "    </tr>\n",
       "    <tr>\n",
       "      <th>2</th>\n",
       "      <td>3</td>\n",
       "      <td>Rest</td>\n",
       "      <td>00:00:02</td>\n",
       "      <td>2020-10-10 20:03:41</td>\n",
       "      <td>27.7</td>\n",
       "      <td>0</td>\n",
       "    </tr>\n",
       "    <tr>\n",
       "      <th>3</th>\n",
       "      <td>4</td>\n",
       "      <td>Rest</td>\n",
       "      <td>00:00:03</td>\n",
       "      <td>2020-10-10 20:03:42</td>\n",
       "      <td>27.7</td>\n",
       "      <td>0</td>\n",
       "    </tr>\n",
       "    <tr>\n",
       "      <th>4</th>\n",
       "      <td>5</td>\n",
       "      <td>Rest</td>\n",
       "      <td>00:00:04</td>\n",
       "      <td>2020-10-10 20:03:43</td>\n",
       "      <td>27.7</td>\n",
       "      <td>0</td>\n",
       "    </tr>\n",
       "  </tbody>\n",
       "</table>\n",
       "</div>"
      ],
      "text/plain": [
       "   Record ID Step Name Relative Time(h:min:s.ms)             Realtime  \\\n",
       "0          1      Rest                  00:00:00  2020-10-10 20:03:39   \n",
       "1          2      Rest                  00:00:01  2020-10-10 20:03:40   \n",
       "2          3      Rest                  00:00:02  2020-10-10 20:03:41   \n",
       "3          4      Rest                  00:00:03  2020-10-10 20:03:42   \n",
       "4          5      Rest                  00:00:04  2020-10-10 20:03:43   \n",
       "\n",
       "   Auxiliary channel TU1 T(°C)  Gap of Temperature  \n",
       "0                         27.7                   0  \n",
       "1                         27.7                   0  \n",
       "2                         27.7                   0  \n",
       "3                         27.7                   0  \n",
       "4                         27.7                   0  "
      ]
     },
     "execution_count": 34,
     "metadata": {},
     "output_type": "execute_result"
    }
   ],
   "source": [
    "df_temp.head(5)"
   ]
  },
  {
   "cell_type": "code",
   "execution_count": 35,
   "metadata": {},
   "outputs": [],
   "source": [
    "df_temp.rename(columns={'Record ID': 'Record_ID', 'Step Name': 'Step_Name','Relative Time(h:min:s.ms)': 'Relative_Time','Realtime': 'Realtime',\n",
    "                   'Auxiliary channel TU1 T(°C)': 'Auxiliary_channel','Gap of Temperature': 'Gap_of_Temperature'}, inplace=True)"
   ]
  },
  {
   "cell_type": "code",
   "execution_count": 37,
   "metadata": {},
   "outputs": [],
   "source": [
    "from pandas_profiling import ProfileReport"
   ]
  },
  {
   "cell_type": "code",
   "execution_count": 38,
   "metadata": {},
   "outputs": [
    {
     "data": {
      "application/vnd.jupyter.widget-view+json": {
       "model_id": "5e035b4fe4db4dea95e2ebd52e95cfa2",
       "version_major": 2,
       "version_minor": 0
      },
      "text/plain": [
       "HBox(children=(FloatProgress(value=0.0, description='Summarize dataset', max=20.0, style=ProgressStyle(descrip…"
      ]
     },
     "metadata": {},
     "output_type": "display_data"
    },
    {
     "name": "stdout",
     "output_type": "stream",
     "text": [
      "\n"
     ]
    },
    {
     "data": {
      "application/vnd.jupyter.widget-view+json": {
       "model_id": "0852a26da0ae4ba7b35ef4f08776ce1f",
       "version_major": 2,
       "version_minor": 0
      },
      "text/plain": [
       "HBox(children=(FloatProgress(value=0.0, description='Generate report structure', max=1.0, style=ProgressStyle(…"
      ]
     },
     "metadata": {},
     "output_type": "display_data"
    },
    {
     "name": "stdout",
     "output_type": "stream",
     "text": [
      "\n"
     ]
    },
    {
     "data": {
      "application/vnd.jupyter.widget-view+json": {
       "model_id": "",
       "version_major": 2,
       "version_minor": 0
      },
      "text/plain": [
       "HBox(children=(FloatProgress(value=0.0, description='Render widgets', max=1.0, style=ProgressStyle(description…"
      ]
     },
     "metadata": {},
     "output_type": "display_data"
    },
    {
     "data": {
      "application/vnd.jupyter.widget-view+json": {
       "model_id": "eb166844e45f4a8a99928f04b4e70107",
       "version_major": 2,
       "version_minor": 0
      },
      "text/plain": [
       "VBox(children=(Tab(children=(Tab(children=(GridBox(children=(VBox(children=(GridspecLayout(children=(HTML(valu…"
      ]
     },
     "metadata": {},
     "output_type": "display_data"
    }
   ],
   "source": [
    "#Lets Try with AutoEDA by pandas profile \n",
    "profile = ProfileReport(df_vol, title='detailsTemp.csv Report', explorative=True)\n",
    "profile.to_widgets()"
   ]
  },
  {
   "cell_type": "code",
   "execution_count": 41,
   "metadata": {},
   "outputs": [
    {
     "data": {
      "application/vnd.jupyter.widget-view+json": {
       "model_id": "f84ce2dcc27a4fab8b6ce0bdba07ea98",
       "version_major": 2,
       "version_minor": 0
      },
      "text/plain": [
       "HBox(children=(FloatProgress(value=0.0, description='Export report to file', max=1.0, style=ProgressStyle(desc…"
      ]
     },
     "metadata": {},
     "output_type": "display_data"
    },
    {
     "name": "stdout",
     "output_type": "stream",
     "text": [
      "\n"
     ]
    }
   ],
   "source": [
    "#Save output result in HTML\n",
    "profile.to_file(\"detailsTemp Report.html\")"
   ]
  },
  {
   "cell_type": "code",
   "execution_count": 42,
   "metadata": {},
   "outputs": [],
   "source": [
    "df_temp['Realtime'] = df_temp['Realtime'].astype(str)"
   ]
  },
  {
   "cell_type": "code",
   "execution_count": 43,
   "metadata": {},
   "outputs": [
    {
     "name": "stderr",
     "output_type": "stream",
     "text": [
      "\n",
      "                                   |                         | [  0%]   00:00  -> (? left)\u001b[A\n",
      "Summarizing dataframe:             |                         | [  0%]   00:00  -> (? left)\u001b[A\n",
      "Summarizing dataframe:             |███                  | [ 14%]   00:00  -> (00:05 left)\u001b[A\n",
      ":Record_ID:                        |██████               | [ 29%]   00:00  -> (00:04 left)\u001b[A\n",
      ":Record_ID:                        |█████████            | [ 43%]   00:02  -> (00:03 left)\u001b[A\n",
      ":Step_Name:                        |█████████            | [ 43%]   00:02  -> (00:03 left)\u001b[A\n",
      ":Step_Name:                        |████████████         | [ 57%]   00:03  -> (00:02 left)\u001b[A\n",
      ":Relative_Time:                    |████████████         | [ 57%]   00:03  -> (00:02 left)\u001b[A\n",
      ":Relative_Time:                    |███████████████      | [ 71%]   00:03  -> (00:01 left)\u001b[A\n",
      ":Realtime:                         |███████████████      | [ 71%]   00:03  -> (00:01 left)\u001b[A\n",
      ":Realtime:                         |██████████████████   | [ 86%]   00:11  -> (00:02 left)\u001b[A\n",
      ":Auxiliary_channel:                |██████████████████   | [ 86%]   00:11  -> (00:02 left)\u001b[A\n",
      ":Auxiliary_channel:                |█████████████████████| [100%]   00:12  -> (00:00 left)\u001b[A\n",
      ":Gap_of_Temperature:               |█████████████████████| [100%]   00:12  -> (00:00 left)\u001b[A\n",
      ":Gap_of_Temperature:               |                     | [  0%]   00:12  -> (00:00 left)\u001b[A\n",
      ":FEATURES DONE:                    |                     | [  0%]   00:12  -> (00:00 left)\u001b[A\n",
      "\n",
      "                                   |                         | [  0%]   00:00  -> (? left)\u001b[A\n",
      ":Processing Pairwise Features:     |                         | [  0%]   00:00  -> (? left)\u001b[A\n",
      ":Processing Pairwise Features:     |███████              | [ 33%]   00:02  -> (00:04 left)\u001b[A\n",
      ":Processing Pairwise Features:     |█████████████████████| [100%]   00:03  -> (00:00 left)\u001b[A\n",
      ":PAIRWISE DONE:                    |█████████████████████| [100%]   00:03  -> (00:00 left)\u001b[A\n"
     ]
    },
    {
     "name": "stdout",
     "output_type": "stream",
     "text": [
      "Creating Associations graph... DONE!\n"
     ]
    }
   ],
   "source": [
    "import sweetviz as sv\n",
    "#analyzing the dataset\n",
    "advert_report = sv.analyze(df_temp)\n",
    "#display the report\n",
    "advert_report.show_html('detailsTemp.html')"
   ]
  },
  {
   "cell_type": "code",
   "execution_count": null,
   "metadata": {},
   "outputs": [],
   "source": []
  }
 ],
 "metadata": {
  "kernelspec": {
   "display_name": "Python 3",
   "language": "python",
   "name": "python3"
  },
  "language_info": {
   "codemirror_mode": {
    "name": "ipython",
    "version": 3
   },
   "file_extension": ".py",
   "mimetype": "text/x-python",
   "name": "python",
   "nbconvert_exporter": "python",
   "pygments_lexer": "ipython3",
   "version": "3.7.4"
  }
 },
 "nbformat": 4,
 "nbformat_minor": 2
}
